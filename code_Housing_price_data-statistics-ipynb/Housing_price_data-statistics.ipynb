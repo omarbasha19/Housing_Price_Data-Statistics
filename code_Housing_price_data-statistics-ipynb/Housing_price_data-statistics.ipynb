{
 "cells": [
  {
   "cell_type": "markdown",
   "metadata": {},
   "source": [
    "# The dataset contains 50,000 entries with six columns describing **housing prices**. Below is a brief overview:\n",
    "<img src=\"ex1.png\" alt=\"Image Description\" width=\"500\">\n",
    "\n",
    "## Columns:\n",
    "\n",
    "-    **SquareFeet**: The size of the house in square feet (integer).\n",
    "-    **Bedrooms**: The number of bedrooms in the house (integer).\n",
    "-    **Bathrooms**: The number of bathrooms in the house (integer).\n",
    "-    **Neighborhood**: The type of neighborhood (categorical: \"Rural,\" \"Suburb,\" or \"Urban\").\n",
    "-    **YearBuilt**: The year the house was constructed (integer).\n",
    "-    **Price**: The house's price in USD (float)."
   ]
  },
  {
   "cell_type": "markdown",
   "metadata": {},
   "source": [
    "# ________________________________________________________________________________________________________________________________________________________________________________"
   ]
  },
  {
   "cell_type": "markdown",
   "metadata": {},
   "source": [
    "## important library"
   ]
  },
  {
   "cell_type": "code",
   "execution_count": 1,
   "metadata": {},
   "outputs": [],
   "source": [
    "import matplotlib.pyplot as plt\n",
    "import seaborn as sns\n",
    "import numpy as np\n",
    "import pandas as pd\n",
    "import matplotlib.pyplot as plt\n",
    "import scipy.stats as stats\n",
    "from statsmodels.stats.weightstats import ztest\n",
    "from scipy.stats import chi2\n",
    "import math\n",
    "from scipy import stats\n"
   ]
  },
  {
   "cell_type": "markdown",
   "metadata": {},
   "source": [
    "#           **Part 1: Descriptive Statistics**"
   ]
  },
  {
   "cell_type": "markdown",
   "metadata": {},
   "source": [
    "## import data\n",
    "- take head(5) to show data"
   ]
  },
  {
   "cell_type": "code",
   "execution_count": 2,
   "metadata": {},
   "outputs": [
    {
     "data": {
      "text/html": [
       "<div>\n",
       "<style scoped>\n",
       "    .dataframe tbody tr th:only-of-type {\n",
       "        vertical-align: middle;\n",
       "    }\n",
       "\n",
       "    .dataframe tbody tr th {\n",
       "        vertical-align: top;\n",
       "    }\n",
       "\n",
       "    .dataframe thead th {\n",
       "        text-align: right;\n",
       "    }\n",
       "</style>\n",
       "<table border=\"1\" class=\"dataframe\">\n",
       "  <thead>\n",
       "    <tr style=\"text-align: right;\">\n",
       "      <th></th>\n",
       "      <th>SquareFeet</th>\n",
       "      <th>Bedrooms</th>\n",
       "      <th>Bathrooms</th>\n",
       "      <th>Neighborhood</th>\n",
       "      <th>YearBuilt</th>\n",
       "      <th>Price</th>\n",
       "    </tr>\n",
       "  </thead>\n",
       "  <tbody>\n",
       "    <tr>\n",
       "      <th>0</th>\n",
       "      <td>2126</td>\n",
       "      <td>4</td>\n",
       "      <td>1</td>\n",
       "      <td>Rural</td>\n",
       "      <td>1969</td>\n",
       "      <td>215355.283618</td>\n",
       "    </tr>\n",
       "    <tr>\n",
       "      <th>1</th>\n",
       "      <td>2459</td>\n",
       "      <td>3</td>\n",
       "      <td>2</td>\n",
       "      <td>Rural</td>\n",
       "      <td>1980</td>\n",
       "      <td>195014.221626</td>\n",
       "    </tr>\n",
       "    <tr>\n",
       "      <th>2</th>\n",
       "      <td>1860</td>\n",
       "      <td>2</td>\n",
       "      <td>1</td>\n",
       "      <td>Suburb</td>\n",
       "      <td>1970</td>\n",
       "      <td>306891.012076</td>\n",
       "    </tr>\n",
       "    <tr>\n",
       "      <th>3</th>\n",
       "      <td>2294</td>\n",
       "      <td>2</td>\n",
       "      <td>1</td>\n",
       "      <td>Urban</td>\n",
       "      <td>1996</td>\n",
       "      <td>206786.787153</td>\n",
       "    </tr>\n",
       "    <tr>\n",
       "      <th>4</th>\n",
       "      <td>2130</td>\n",
       "      <td>5</td>\n",
       "      <td>2</td>\n",
       "      <td>Suburb</td>\n",
       "      <td>2001</td>\n",
       "      <td>272436.239065</td>\n",
       "    </tr>\n",
       "  </tbody>\n",
       "</table>\n",
       "</div>"
      ],
      "text/plain": [
       "   SquareFeet  Bedrooms  Bathrooms Neighborhood  YearBuilt          Price\n",
       "0        2126         4          1        Rural       1969  215355.283618\n",
       "1        2459         3          2        Rural       1980  195014.221626\n",
       "2        1860         2          1       Suburb       1970  306891.012076\n",
       "3        2294         2          1        Urban       1996  206786.787153\n",
       "4        2130         5          2       Suburb       2001  272436.239065"
      ]
     },
     "execution_count": 2,
     "metadata": {},
     "output_type": "execute_result"
    }
   ],
   "source": [
    "df = pd.read_csv('housing_price.csv')\n",
    "\n",
    "df.head(5)"
   ]
  },
  {
   "cell_type": "markdown",
   "metadata": {},
   "source": [
    "## information about data\n"
   ]
  },
  {
   "cell_type": "code",
   "execution_count": 3,
   "metadata": {},
   "outputs": [
    {
     "name": "stdout",
     "output_type": "stream",
     "text": [
      "<class 'pandas.core.frame.DataFrame'>\n",
      "RangeIndex: 50000 entries, 0 to 49999\n",
      "Data columns (total 6 columns):\n",
      " #   Column        Non-Null Count  Dtype  \n",
      "---  ------        --------------  -----  \n",
      " 0   SquareFeet    50000 non-null  int64  \n",
      " 1   Bedrooms      50000 non-null  int64  \n",
      " 2   Bathrooms     50000 non-null  int64  \n",
      " 3   Neighborhood  50000 non-null  object \n",
      " 4   YearBuilt     50000 non-null  int64  \n",
      " 5   Price         50000 non-null  float64\n",
      "dtypes: float64(1), int64(4), object(1)\n",
      "memory usage: 2.3+ MB\n"
     ]
    }
   ],
   "source": [
    "df.info()"
   ]
  },
  {
   "cell_type": "markdown",
   "metadata": {},
   "source": [
    "## The result\n",
    "- The dataset is clean and complete, with 50,000 entries and no missing values across six columns. Data types are appropriate for analysis, with numerical and categorical columns correctly represented."
   ]
  },
  {
   "cell_type": "markdown",
   "metadata": {},
   "source": [
    "# ________________________________________________________________________________________________________________________________________________________________________________"
   ]
  },
  {
   "cell_type": "markdown",
   "metadata": {},
   "source": [
    "## check data \n",
    "- duplicated\n",
    "- negative value in price !!"
   ]
  },
  {
   "cell_type": "markdown",
   "metadata": {},
   "source": [
    "## 1- duplicated"
   ]
  },
  {
   "cell_type": "code",
   "execution_count": 4,
   "metadata": {},
   "outputs": [
    {
     "data": {
      "text/plain": [
       "0"
      ]
     },
     "execution_count": 4,
     "metadata": {},
     "output_type": "execute_result"
    }
   ],
   "source": [
    "df.drop_duplicates(inplace= True)\n",
    "df.duplicated().sum()\n",
    "\n",
    "#data.duplicated().any()\n"
   ]
  },
  {
   "cell_type": "markdown",
   "metadata": {},
   "source": [
    "## 2- negative value in price !!\n",
    "### show it"
   ]
  },
  {
   "cell_type": "code",
   "execution_count": 5,
   "metadata": {},
   "outputs": [
    {
     "name": "stdout",
     "output_type": "stream",
     "text": [
      "1266    -24715.242482\n",
      "2310     -7550.504574\n",
      "3630    -19871.251146\n",
      "4162    -10608.359522\n",
      "5118    -23911.003119\n",
      "5951     -4537.418615\n",
      "6355    -13803.684059\n",
      "8720    -24183.000515\n",
      "9611    -13692.026068\n",
      "10597     -434.097124\n",
      "11991    -4910.415323\n",
      "17442    -8238.884499\n",
      "17706   -28774.998022\n",
      "20211   -18159.685676\n",
      "20759    -4810.724320\n",
      "23650    -4295.932176\n",
      "25459    -7177.628532\n",
      "29827     -847.895073\n",
      "30171     -602.209099\n",
      "33666   -36588.165397\n",
      "35553    -4771.570194\n",
      "36929    -6159.039213\n",
      "Name: Price, dtype: float64\n"
     ]
    }
   ],
   "source": [
    "negative_prices = df[df['Price'] < 0]['Price']\n",
    "\n",
    "print(negative_prices)"
   ]
  },
  {
   "cell_type": "markdown",
   "metadata": {},
   "source": [
    "## remove it"
   ]
  },
  {
   "cell_type": "code",
   "execution_count": 6,
   "metadata": {},
   "outputs": [
    {
     "name": "stdout",
     "output_type": "stream",
     "text": [
      "154.77912007166017\n"
     ]
    }
   ],
   "source": [
    "df = df[df['Price'] >= 0]\n",
    "\n",
    "print(df['Price'].min())"
   ]
  },
  {
   "cell_type": "markdown",
   "metadata": {},
   "source": [
    "## The result\n",
    "- There are no duplicates in the data\n",
    "- no negative value in col price"
   ]
  },
  {
   "cell_type": "markdown",
   "metadata": {},
   "source": [
    "# ________________________________________________________________________________________________________________________________________________________________________________"
   ]
  },
  {
   "cell_type": "markdown",
   "metadata": {},
   "source": [
    "## sample data"
   ]
  },
  {
   "cell_type": "code",
   "execution_count": 7,
   "metadata": {},
   "outputs": [
    {
     "data": {
      "text/html": [
       "<div>\n",
       "<style scoped>\n",
       "    .dataframe tbody tr th:only-of-type {\n",
       "        vertical-align: middle;\n",
       "    }\n",
       "\n",
       "    .dataframe tbody tr th {\n",
       "        vertical-align: top;\n",
       "    }\n",
       "\n",
       "    .dataframe thead th {\n",
       "        text-align: right;\n",
       "    }\n",
       "</style>\n",
       "<table border=\"1\" class=\"dataframe\">\n",
       "  <thead>\n",
       "    <tr style=\"text-align: right;\">\n",
       "      <th></th>\n",
       "      <th>SquareFeet</th>\n",
       "      <th>Bedrooms</th>\n",
       "      <th>Bathrooms</th>\n",
       "      <th>Neighborhood</th>\n",
       "      <th>YearBuilt</th>\n",
       "      <th>Price</th>\n",
       "    </tr>\n",
       "  </thead>\n",
       "  <tbody>\n",
       "    <tr>\n",
       "      <th>23636</th>\n",
       "      <td>1457</td>\n",
       "      <td>2</td>\n",
       "      <td>2</td>\n",
       "      <td>Rural</td>\n",
       "      <td>1992</td>\n",
       "      <td>144047.107037</td>\n",
       "    </tr>\n",
       "    <tr>\n",
       "      <th>24584</th>\n",
       "      <td>2607</td>\n",
       "      <td>5</td>\n",
       "      <td>2</td>\n",
       "      <td>Suburb</td>\n",
       "      <td>1990</td>\n",
       "      <td>291038.214068</td>\n",
       "    </tr>\n",
       "    <tr>\n",
       "      <th>25071</th>\n",
       "      <td>1109</td>\n",
       "      <td>4</td>\n",
       "      <td>3</td>\n",
       "      <td>Suburb</td>\n",
       "      <td>1951</td>\n",
       "      <td>185600.231499</td>\n",
       "    </tr>\n",
       "    <tr>\n",
       "      <th>8211</th>\n",
       "      <td>2049</td>\n",
       "      <td>4</td>\n",
       "      <td>1</td>\n",
       "      <td>Suburb</td>\n",
       "      <td>1961</td>\n",
       "      <td>253997.923124</td>\n",
       "    </tr>\n",
       "    <tr>\n",
       "      <th>20935</th>\n",
       "      <td>2040</td>\n",
       "      <td>4</td>\n",
       "      <td>1</td>\n",
       "      <td>Urban</td>\n",
       "      <td>2011</td>\n",
       "      <td>239694.352977</td>\n",
       "    </tr>\n",
       "    <tr>\n",
       "      <th>10756</th>\n",
       "      <td>2260</td>\n",
       "      <td>2</td>\n",
       "      <td>3</td>\n",
       "      <td>Rural</td>\n",
       "      <td>2003</td>\n",
       "      <td>316437.093982</td>\n",
       "    </tr>\n",
       "    <tr>\n",
       "      <th>46096</th>\n",
       "      <td>2875</td>\n",
       "      <td>5</td>\n",
       "      <td>3</td>\n",
       "      <td>Urban</td>\n",
       "      <td>1978</td>\n",
       "      <td>356571.490520</td>\n",
       "    </tr>\n",
       "    <tr>\n",
       "      <th>28349</th>\n",
       "      <td>1767</td>\n",
       "      <td>4</td>\n",
       "      <td>2</td>\n",
       "      <td>Suburb</td>\n",
       "      <td>2001</td>\n",
       "      <td>224619.148485</td>\n",
       "    </tr>\n",
       "    <tr>\n",
       "      <th>6518</th>\n",
       "      <td>2599</td>\n",
       "      <td>3</td>\n",
       "      <td>1</td>\n",
       "      <td>Suburb</td>\n",
       "      <td>2004</td>\n",
       "      <td>249253.565942</td>\n",
       "    </tr>\n",
       "    <tr>\n",
       "      <th>14508</th>\n",
       "      <td>2716</td>\n",
       "      <td>3</td>\n",
       "      <td>2</td>\n",
       "      <td>Rural</td>\n",
       "      <td>2020</td>\n",
       "      <td>361452.907053</td>\n",
       "    </tr>\n",
       "  </tbody>\n",
       "</table>\n",
       "</div>"
      ],
      "text/plain": [
       "       SquareFeet  Bedrooms  Bathrooms Neighborhood  YearBuilt          Price\n",
       "23636        1457         2          2        Rural       1992  144047.107037\n",
       "24584        2607         5          2       Suburb       1990  291038.214068\n",
       "25071        1109         4          3       Suburb       1951  185600.231499\n",
       "8211         2049         4          1       Suburb       1961  253997.923124\n",
       "20935        2040         4          1        Urban       2011  239694.352977\n",
       "10756        2260         2          3        Rural       2003  316437.093982\n",
       "46096        2875         5          3        Urban       1978  356571.490520\n",
       "28349        1767         4          2       Suburb       2001  224619.148485\n",
       "6518         2599         3          1       Suburb       2004  249253.565942\n",
       "14508        2716         3          2        Rural       2020  361452.907053"
      ]
     },
     "execution_count": 7,
     "metadata": {},
     "output_type": "execute_result"
    }
   ],
   "source": [
    "df.sample(10)"
   ]
  },
  {
   "cell_type": "markdown",
   "metadata": {},
   "source": [
    "# ________________________________________________________________________________________________________________________________________________________________________________"
   ]
  },
  {
   "cell_type": "markdown",
   "metadata": {},
   "source": [
    "## describe for all data"
   ]
  },
  {
   "cell_type": "code",
   "execution_count": 8,
   "metadata": {},
   "outputs": [
    {
     "data": {
      "text/html": [
       "<div>\n",
       "<style scoped>\n",
       "    .dataframe tbody tr th:only-of-type {\n",
       "        vertical-align: middle;\n",
       "    }\n",
       "\n",
       "    .dataframe tbody tr th {\n",
       "        vertical-align: top;\n",
       "    }\n",
       "\n",
       "    .dataframe thead th {\n",
       "        text-align: right;\n",
       "    }\n",
       "</style>\n",
       "<table border=\"1\" class=\"dataframe\">\n",
       "  <thead>\n",
       "    <tr style=\"text-align: right;\">\n",
       "      <th></th>\n",
       "      <th>SquareFeet</th>\n",
       "      <th>Bedrooms</th>\n",
       "      <th>Bathrooms</th>\n",
       "      <th>YearBuilt</th>\n",
       "      <th>Price</th>\n",
       "    </tr>\n",
       "  </thead>\n",
       "  <tbody>\n",
       "    <tr>\n",
       "      <th>count</th>\n",
       "      <td>49978.000000</td>\n",
       "      <td>49978.000000</td>\n",
       "      <td>49978.000000</td>\n",
       "      <td>49978.000000</td>\n",
       "      <td>49978.000000</td>\n",
       "    </tr>\n",
       "    <tr>\n",
       "      <th>mean</th>\n",
       "      <td>2006.752551</td>\n",
       "      <td>3.498659</td>\n",
       "      <td>1.995458</td>\n",
       "      <td>1985.404338</td>\n",
       "      <td>224931.667960</td>\n",
       "    </tr>\n",
       "    <tr>\n",
       "      <th>std</th>\n",
       "      <td>575.350298</td>\n",
       "      <td>1.116325</td>\n",
       "      <td>0.815859</td>\n",
       "      <td>20.718407</td>\n",
       "      <td>75995.682992</td>\n",
       "    </tr>\n",
       "    <tr>\n",
       "      <th>min</th>\n",
       "      <td>1000.000000</td>\n",
       "      <td>2.000000</td>\n",
       "      <td>1.000000</td>\n",
       "      <td>1950.000000</td>\n",
       "      <td>154.779120</td>\n",
       "    </tr>\n",
       "    <tr>\n",
       "      <th>25%</th>\n",
       "      <td>1514.000000</td>\n",
       "      <td>3.000000</td>\n",
       "      <td>1.000000</td>\n",
       "      <td>1967.000000</td>\n",
       "      <td>170007.487130</td>\n",
       "    </tr>\n",
       "    <tr>\n",
       "      <th>50%</th>\n",
       "      <td>2008.000000</td>\n",
       "      <td>3.000000</td>\n",
       "      <td>2.000000</td>\n",
       "      <td>1985.000000</td>\n",
       "      <td>225100.123857</td>\n",
       "    </tr>\n",
       "    <tr>\n",
       "      <th>75%</th>\n",
       "      <td>2506.000000</td>\n",
       "      <td>4.000000</td>\n",
       "      <td>3.000000</td>\n",
       "      <td>2003.000000</td>\n",
       "      <td>279395.826288</td>\n",
       "    </tr>\n",
       "    <tr>\n",
       "      <th>max</th>\n",
       "      <td>2999.000000</td>\n",
       "      <td>5.000000</td>\n",
       "      <td>3.000000</td>\n",
       "      <td>2021.000000</td>\n",
       "      <td>492195.259972</td>\n",
       "    </tr>\n",
       "  </tbody>\n",
       "</table>\n",
       "</div>"
      ],
      "text/plain": [
       "         SquareFeet      Bedrooms     Bathrooms     YearBuilt          Price\n",
       "count  49978.000000  49978.000000  49978.000000  49978.000000   49978.000000\n",
       "mean    2006.752551      3.498659      1.995458   1985.404338  224931.667960\n",
       "std      575.350298      1.116325      0.815859     20.718407   75995.682992\n",
       "min     1000.000000      2.000000      1.000000   1950.000000     154.779120\n",
       "25%     1514.000000      3.000000      1.000000   1967.000000  170007.487130\n",
       "50%     2008.000000      3.000000      2.000000   1985.000000  225100.123857\n",
       "75%     2506.000000      4.000000      3.000000   2003.000000  279395.826288\n",
       "max     2999.000000      5.000000      3.000000   2021.000000  492195.259972"
      ]
     },
     "execution_count": 8,
     "metadata": {},
     "output_type": "execute_result"
    }
   ],
   "source": [
    "df.describe()"
   ]
  },
  {
   "cell_type": "markdown",
   "metadata": {},
   "source": [
    "# ________________________________________________________________________________________________________________________________________________________________________________"
   ]
  },
  {
   "cell_type": "markdown",
   "metadata": {},
   "source": [
    "## Get the mean, mode, median, variance and standard deviation for at least 3 columns.\n",
    "- Square Feet\n",
    "- Year Built\n",
    "- Price"
   ]
  },
  {
   "cell_type": "markdown",
   "metadata": {},
   "source": [
    "## 1- Square Feet"
   ]
  },
  {
   "cell_type": "code",
   "execution_count": 9,
   "metadata": {},
   "outputs": [
    {
     "name": "stdout",
     "output_type": "stream",
     "text": [
      "The mode value of Square Feet is: 0    2486\n",
      "Name: SquareFeet, dtype: int64\n",
      "\n",
      "\n",
      "The mean value of Square Feet is: 2006.752551122494\n",
      "The median value of Square Feet is: 2008.0\n",
      "The variance value of Square Feet is: 331027.9656401891\n",
      "The standard deviation value of Square Feet is: 575.3502982011821\n"
     ]
    }
   ],
   "source": [
    "mean_SquareFeet = df['SquareFeet'].mean()\n",
    "mode_SquareFeet = df['SquareFeet'].mode()\n",
    "median_SquareFeet = df['SquareFeet'].median()\n",
    "variance_SquareFeet = df['SquareFeet'].var()\n",
    "standard_deviation_SquareFeet = df['SquareFeet'].std()\n",
    "\n",
    "print(f\"The mode value of Square Feet is: {mode_SquareFeet}\")\n",
    "print(\"\\n\")\n",
    "\n",
    "print(f\"The mean value of Square Feet is: {mean_SquareFeet}\")\n",
    "\n",
    "print(f\"The median value of Square Feet is: {median_SquareFeet}\")\n",
    "\n",
    "print(f\"The variance value of Square Feet is: {variance_SquareFeet }\")\n",
    "\n",
    "print(f\"The standard deviation value of Square Feet is: {standard_deviation_SquareFeet}\")\n",
    "\n",
    "\n",
    "\n"
   ]
  },
  {
   "cell_type": "markdown",
   "metadata": {},
   "source": [
    "# 2- Year Built"
   ]
  },
  {
   "cell_type": "code",
   "execution_count": 10,
   "metadata": {},
   "outputs": [
    {
     "name": "stdout",
     "output_type": "stream",
     "text": [
      "The mode value of Year Built is: 0    1968\n",
      "Name: YearBuilt, dtype: int64\n",
      "\n",
      "\n",
      "The mean value of Year Built is: 1985.4043379086797\n",
      "The median value of Year Built is: 1985.0\n",
      "The variance value of Year Built is: 429.25239889431936\n",
      "The standard deviation value of Year Built is: 20.718407248008216\n"
     ]
    }
   ],
   "source": [
    "mean_YearBuilt = df['YearBuilt'].mean()\n",
    "mode_YearBuilt = df['YearBuilt'].mode()\n",
    "median_YearBuilt = df['YearBuilt'].median()\n",
    "variance_YearBuilt= df['YearBuilt'].var()\n",
    "standard_deviation_YearBuilt = df['YearBuilt'].std()\n",
    "\n",
    "print(f\"The mode value of Year Built is: {mode_YearBuilt}\")\n",
    "print(\"\\n\")\n",
    "\n",
    "print(f\"The mean value of Year Built is: {mean_YearBuilt}\")\n",
    "\n",
    "print(f\"The median value of Year Built is: {median_YearBuilt}\")\n",
    "\n",
    "print(f\"The variance value of Year Built is: {variance_YearBuilt }\")\n",
    "\n",
    "print(f\"The standard deviation value of Year Built is: {standard_deviation_YearBuilt}\")\n",
    "\n",
    "\n",
    "\n"
   ]
  },
  {
   "cell_type": "markdown",
   "metadata": {},
   "source": [
    "# 3- Price"
   ]
  },
  {
   "cell_type": "code",
   "execution_count": 11,
   "metadata": {},
   "outputs": [
    {
     "name": "stdout",
     "output_type": "stream",
     "text": [
      "The mode value of Price is: 0           154.779120\n",
      "1           276.063516\n",
      "2          2360.274450\n",
      "3          2697.849758\n",
      "4          3000.859614\n",
      "             ...      \n",
      "49973    468493.877841\n",
      "49974    470989.679074\n",
      "49975    476671.733263\n",
      "49976    482577.163405\n",
      "49977    492195.259972\n",
      "Name: Price, Length: 49978, dtype: float64\n",
      "\n",
      "\n",
      "The mean value of Price is: 224931.66795958765\n",
      "The median value of Price is: 225100.1238574357\n",
      "The variance value of Price is: 5775343833.395425\n",
      "The standard deviation value of Price is: 75995.68299183463\n"
     ]
    }
   ],
   "source": [
    "mean_Price = df['Price'].mean()\n",
    "mode_Price = df['Price'].mode()\n",
    "median_Price = df['Price'].median()\n",
    "variance_Price = df['Price'].var()\n",
    "standard_deviation_Price = df['Price'].std()\n",
    "\n",
    "print(f\"The mode value of Price is: {mode_Price}\")\n",
    "print(\"\\n\")\n",
    "\n",
    "print(f\"The mean value of Price is: {mean_Price}\")\n",
    "\n",
    "print(f\"The median value of Price is: {median_Price}\")\n",
    "\n",
    "print(f\"The variance value of Price is: {variance_Price}\")\n",
    "\n",
    "print(f\"The standard deviation value of Price is: {standard_deviation_Price}\")\n"
   ]
  },
  {
   "cell_type": "markdown",
   "metadata": {},
   "source": [
    "# ________________________________________________________________________________________________________________________________________________________________________________"
   ]
  },
  {
   "cell_type": "markdown",
   "metadata": {},
   "source": [
    "### For any numerical column, construct a histogram for it\n",
    "- price"
   ]
  },
  {
   "cell_type": "code",
   "execution_count": 12,
   "metadata": {},
   "outputs": [
    {
     "data": {
      "image/png": "[encoded data removed]",
      "text/plain": [
       "<Figure size 1000x600 with 1 Axes>"
      ]
     },
     "metadata": {},
     "output_type": "display_data"
    }
   ],
   "source": [
    "plt.figure(figsize=(10, 6))\n",
    "\n",
    "plt.hist(df['Price'], bins=20, edgecolor='black' , color= \"#AEC6CF\")\n",
    "\n",
    "plt.title('Histogram of Price', fontsize=16)\n",
    "\n",
    "plt.xlabel('Price', fontsize=14)\n",
    "\n",
    "plt.ylabel('Frequency', fontsize=14)\n",
    "\n",
    "plt.grid(axis='y', linestyle='--', alpha=0.7)\n",
    "\n",
    "plt.show()\n"
   ]
  },
  {
   "cell_type": "markdown",
   "metadata": {},
   "source": [
    "# ________________________________________________________________________________________________________________________________________________________________________________"
   ]
  },
  {
   "cell_type": "markdown",
   "metadata": {},
   "source": [
    "### For any column, compute the frequency distribution using value_counts() function\n",
    "- Neighbor hood"
   ]
  },
  {
   "cell_type": "code",
   "execution_count": 13,
   "metadata": {},
   "outputs": [
    {
     "name": "stdout",
     "output_type": "stream",
     "text": [
      "Neighborhood\n",
      "Suburb    16716\n",
      "Rural     16668\n",
      "Urban     16594\n",
      "Name: count, dtype: int64\n"
     ]
    }
   ],
   "source": [
    "frequency_distribution = df['Neighborhood'].value_counts()\n",
    "\n",
    "print(frequency_distribution)\n"
   ]
  },
  {
   "cell_type": "markdown",
   "metadata": {},
   "source": [
    "# ________________________________________________________________________________________________________________________________________________________________________________"
   ]
  },
  {
   "cell_type": "markdown",
   "metadata": {},
   "source": [
    "# Plot bar and pie chart for the previous column\n",
    "### The column was selected from the previous cell   **[frequency_distribution = df['Neighborhood'].value_counts()]**\n",
    "- Neighbor hood"
   ]
  },
  {
   "cell_type": "markdown",
   "metadata": {},
   "source": [
    "## bar chart"
   ]
  },
  {
   "cell_type": "code",
   "execution_count": 14,
   "metadata": {},
   "outputs": [
    {
     "data": {
      "image/png": "[encoded data removed]",
      "text/plain": [
       "<Figure size 1000x600 with 1 Axes>"
      ]
     },
     "metadata": {},
     "output_type": "display_data"
    }
   ],
   "source": [
    "colors = ['#AEC6CF', '#98FF98', '#FFD1DC']\n",
    "\n",
    "plt.figure(figsize=(10, 6))\n",
    "\n",
    "frequency_distribution.plot(kind='bar', color=colors, edgecolor='black')\n",
    "\n",
    "plt.title('Bar Chart of Neighborhood Frequency', fontsize=16)\n",
    "\n",
    "plt.xlabel('Neighborhood', fontsize=14)\n",
    "\n",
    "plt.ylabel('Frequency', fontsize=14)\n",
    "\n",
    "plt.xticks(rotation=0)\n",
    "\n",
    "plt.grid(axis='y', linestyle='--', alpha=0.7)\n",
    "\n",
    "plt.show()"
   ]
  },
  {
   "cell_type": "markdown",
   "metadata": {},
   "source": [
    "## pie cahrt"
   ]
  },
  {
   "cell_type": "code",
   "execution_count": 15,
   "metadata": {},
   "outputs": [
    {
     "data": {
      "image/png": "[encoded data removed]",
      "text/plain": [
       "<Figure size 800x800 with 1 Axes>"
      ]
     },
     "metadata": {},
     "output_type": "display_data"
    }
   ],
   "source": [
    "plt.figure(figsize=(8, 8))\n",
    "\n",
    "frequency_distribution.plot(kind='pie', autopct='%1.1f%%', colors=colors, startangle=140)\n",
    "\n",
    "plt.title('Pie Chart of Neighborhood Frequency', fontsize=16)\n",
    "\n",
    "plt.ylabel('')  \n",
    "\n",
    "plt.show()\n"
   ]
  },
  {
   "cell_type": "markdown",
   "metadata": {},
   "source": [
    "# ________________________________________________________________________________________________________________________________________________________________________________"
   ]
  },
  {
   "cell_type": "markdown",
   "metadata": {},
   "source": [
    "## For at least 3 columns, plot box plot.\n",
    "- Square Feet\n",
    "- Year Built\n",
    "- Price"
   ]
  },
  {
   "cell_type": "markdown",
   "metadata": {},
   "source": [
    "# 1- Square Feet\n",
    "## The box plot for Square Feet shows:\n",
    "\n",
    "-    Minimum: ~1000 sqft (bottom whisker).\n",
    "-    Maximum: ~3000 sqft (top whisker).\n",
    "-    Median (Q2): ~2000 sqft (green line).\n",
    "-    IQR (Q1 to Q3): ~1500 to ~2500 sqft (box edges).\n",
    "-    Outliers: None or very few points outside whiskers.\n"
   ]
  },
  {
   "cell_type": "code",
   "execution_count": 16,
   "metadata": {},
   "outputs": [
    {
     "data": {
      "image/png": "[encoded data removed]",
      "text/plain": [
       "<Figure size 600x400 with 1 Axes>"
      ]
     },
     "metadata": {},
     "output_type": "display_data"
    }
   ],
   "source": [
    "plt.figure(figsize=(6, 4))\n",
    "\n",
    "df.boxplot(column=['SquareFeet'])\n",
    "\n",
    "plt.title('Box Plot for SquareFeet', fontsize=16)\n",
    "\n",
    "plt.ylabel('SquareFeet', fontsize=14)\n",
    "\n",
    "plt.grid(axis='y', linestyle='--', alpha=0.7)\n",
    "\n",
    "plt.show()"
   ]
  },
  {
   "cell_type": "markdown",
   "metadata": {},
   "source": [
    "# 2- Year Built\n",
    "## The box plot for Year Built shows:\n",
    "\n",
    "-    Minimum: ~1950 (bottom whisker).\n",
    "-    Maximum: ~2020 (top whisker).\n",
    "-    Median (Q2): ~1985 (green line).\n",
    "-    IQR (Q1 to Q3): ~1970 to ~2000 (box edges).\n",
    "-    Outliers: None or very few points."
   ]
  },
  {
   "cell_type": "code",
   "execution_count": 17,
   "metadata": {},
   "outputs": [
    {
     "data": {
      "image/png": "[encoded data removed]",
      "text/plain": [
       "<Figure size 600x400 with 1 Axes>"
      ]
     },
     "metadata": {},
     "output_type": "display_data"
    }
   ],
   "source": [
    "plt.figure(figsize=(6, 4))\n",
    "\n",
    "df.boxplot(column=['YearBuilt'])\n",
    "\n",
    "plt.title('Box Plot for YearBuilt', fontsize=16)\n",
    "\n",
    "plt.ylabel('YearBuilt', fontsize=14)\n",
    "\n",
    "plt.grid(axis='y', linestyle='--', alpha=0.7)\n",
    "\n",
    "plt.show()"
   ]
  },
  {
   "cell_type": "markdown",
   "metadata": {},
   "source": [
    "# 3- Price\n",
    "## The box plot for Price shows:\n",
    "\n",
    "-    Minimum: ~0 (bottom whisker).\n",
    "-    Maximum: ~500,000 (top whisker).\n",
    "-    Median (Q2): ~200,000 (green line).\n",
    "-    IQR (Q1 to Q3): ~150,000 to ~250,000 (box edges).\n",
    "-    Outliers: Several points above ~500,000 and none below ~0.\n"
   ]
  },
  {
   "cell_type": "code",
   "execution_count": 18,
   "metadata": {},
   "outputs": [
    {
     "data": {
      "image/png": "[encoded data removed]",
      "text/plain": [
       "<Figure size 600x400 with 1 Axes>"
      ]
     },
     "metadata": {},
     "output_type": "display_data"
    }
   ],
   "source": [
    "plt.figure(figsize=(6, 4))\n",
    "\n",
    "df.boxplot(column=['Price'])\n",
    "\n",
    "plt.title('Box Plot for Price', fontsize=16)\n",
    "\n",
    "plt.ylabel('Price', fontsize=14)\n",
    "\n",
    "plt.grid(axis='y', linestyle='--', alpha=0.7)\n",
    "\n",
    "plt.show()"
   ]
  },
  {
   "cell_type": "markdown",
   "metadata": {},
   "source": [
    "# ________________________________________________________________________________________________________________________________________________________________________________"
   ]
  },
  {
   "cell_type": "markdown",
   "metadata": {},
   "source": [
    "## Construct a heatmap for your dataset.\n",
    "- Strong Positive Correlation:\n",
    "\n",
    "   - SquareFeet and Price (0.75): Larger properties generally have higher prices.\n",
    "\n",
    "- Weak Correlations:\n",
    "\n",
    "   - Bedrooms, Bathrooms, and YearBuilt show weak correlations with Price (< 0.1), indicating minimal direct influence.\n",
    "\n",
    "- Independent Variables:\n",
    "\n",
    "   - Most features have low correlations with each other, suggesting minimal multicollinearity in the dataset.\n",
    "\n",
    "- Significance:\n",
    "\n",
    "   - SquareFeet is the most significant predictor of Price among the variables."
   ]
  },
  {
   "cell_type": "code",
   "execution_count": 19,
   "metadata": {},
   "outputs": [
    {
     "data": {
      "image/png": "[encoded data removed]",
      "text/plain": [
       "<Figure size 800x600 with 2 Axes>"
      ]
     },
     "metadata": {},
     "output_type": "display_data"
    }
   ],
   "source": [
    "numerical_data = df.select_dtypes(include=['float64', 'int64'])\n",
    "\n",
    "correlation_matrix = numerical_data.corr()\n",
    "\n",
    "plt.figure(figsize=(8, 6))\n",
    "\n",
    "sns.heatmap(correlation_matrix, annot=True, fmt=\".2f\", cmap=\"coolwarm\", cbar=True)\n",
    "\n",
    "plt.title(\"Heatmap of Numerical Features Correlation\")\n",
    "\n",
    "plt.show()\n",
    "\n"
   ]
  },
  {
   "cell_type": "markdown",
   "metadata": {},
   "source": [
    "# ________________________________________________________________________________________________________________________________________________________________________________"
   ]
  },
  {
   "cell_type": "markdown",
   "metadata": {},
   "source": [
    "### For any 2 columns, calculate both Spearman and Pearson correlation coefficient.\n",
    "- Square Feet\n",
    "- Price"
   ]
  },
  {
   "cell_type": "markdown",
   "metadata": {},
   "source": [
    "# Pearson correlation\n",
    "### Pearson Correlation (0.75):\n",
    "\n",
    "- **Strong positive linear relationship** between SquareFeet and Price.\n",
    "- As size increases, price increases in a consistent manner."
   ]
  },
  {
   "cell_type": "code",
   "execution_count": 20,
   "metadata": {},
   "outputs": [
    {
     "name": "stdout",
     "output_type": "stream",
     "text": [
      "Pearson Correlation between SquareFeet and Price: 0.750655727858554\n"
     ]
    }
   ],
   "source": [
    "column1 = 'SquareFeet'  \n",
    "column2 = 'Price'       \n",
    "\n",
    "pearson_corr = numerical_data[column1].corr(numerical_data[column2], method='pearson')\n",
    "\n",
    "print(f\"Pearson Correlation between {column1} and {column2}: {pearson_corr}\")\n"
   ]
  },
  {
   "cell_type": "markdown",
   "metadata": {},
   "source": [
    "# Spearman correlation\n",
    "### Spearman Correlation (0.76):\n",
    "\n",
    "- **Strong positive monotonic relationship** between SquareFeet and Price.\n",
    "- Price increases as size increases, regardless of linearity."
   ]
  },
  {
   "cell_type": "code",
   "execution_count": 21,
   "metadata": {},
   "outputs": [
    {
     "name": "stdout",
     "output_type": "stream",
     "text": [
      "Spearman Correlation between SquareFeet and Price: 0.7595796575578705\n"
     ]
    }
   ],
   "source": [
    "spearman_corr = numerical_data[column1].corr(numerical_data[column2], method='spearman')\n",
    "\n",
    "print(f\"Spearman Correlation between {column1} and {column2}: {spearman_corr}\")\n"
   ]
  },
  {
   "cell_type": "markdown",
   "metadata": {},
   "source": [
    "# ________________________________________________________________________________________________________________________________________________________________________________"
   ]
  },
  {
   "cell_type": "markdown",
   "metadata": {},
   "source": [
    "# **Part 2: Inferential Statistics**"
   ]
  },
  {
   "cell_type": "markdown",
   "metadata": {},
   "source": [
    "## Sample your dataset to be of size = 100"
   ]
  },
  {
   "cell_type": "code",
   "execution_count": 22,
   "metadata": {},
   "outputs": [
    {
     "data": {
      "text/html": [
       "<div>\n",
       "<style scoped>\n",
       "    .dataframe tbody tr th:only-of-type {\n",
       "        vertical-align: middle;\n",
       "    }\n",
       "\n",
       "    .dataframe tbody tr th {\n",
       "        vertical-align: top;\n",
       "    }\n",
       "\n",
       "    .dataframe thead th {\n",
       "        text-align: right;\n",
       "    }\n",
       "</style>\n",
       "<table border=\"1\" class=\"dataframe\">\n",
       "  <thead>\n",
       "    <tr style=\"text-align: right;\">\n",
       "      <th></th>\n",
       "      <th>SquareFeet</th>\n",
       "      <th>Bedrooms</th>\n",
       "      <th>Bathrooms</th>\n",
       "      <th>Neighborhood</th>\n",
       "      <th>YearBuilt</th>\n",
       "      <th>Price</th>\n",
       "    </tr>\n",
       "  </thead>\n",
       "  <tbody>\n",
       "    <tr>\n",
       "      <th>21450</th>\n",
       "      <td>2713</td>\n",
       "      <td>5</td>\n",
       "      <td>2</td>\n",
       "      <td>Suburb</td>\n",
       "      <td>2004</td>\n",
       "      <td>215070.921006</td>\n",
       "    </tr>\n",
       "    <tr>\n",
       "      <th>39630</th>\n",
       "      <td>2714</td>\n",
       "      <td>4</td>\n",
       "      <td>1</td>\n",
       "      <td>Rural</td>\n",
       "      <td>1959</td>\n",
       "      <td>433777.248551</td>\n",
       "    </tr>\n",
       "    <tr>\n",
       "      <th>16759</th>\n",
       "      <td>1241</td>\n",
       "      <td>5</td>\n",
       "      <td>1</td>\n",
       "      <td>Urban</td>\n",
       "      <td>1993</td>\n",
       "      <td>107551.215767</td>\n",
       "    </tr>\n",
       "    <tr>\n",
       "      <th>16273</th>\n",
       "      <td>2117</td>\n",
       "      <td>3</td>\n",
       "      <td>3</td>\n",
       "      <td>Rural</td>\n",
       "      <td>2001</td>\n",
       "      <td>252767.898688</td>\n",
       "    </tr>\n",
       "    <tr>\n",
       "      <th>16786</th>\n",
       "      <td>2860</td>\n",
       "      <td>2</td>\n",
       "      <td>2</td>\n",
       "      <td>Urban</td>\n",
       "      <td>1988</td>\n",
       "      <td>375957.330501</td>\n",
       "    </tr>\n",
       "  </tbody>\n",
       "</table>\n",
       "</div>"
      ],
      "text/plain": [
       "       SquareFeet  Bedrooms  Bathrooms Neighborhood  YearBuilt          Price\n",
       "21450        2713         5          2       Suburb       2004  215070.921006\n",
       "39630        2714         4          1        Rural       1959  433777.248551\n",
       "16759        1241         5          1        Urban       1993  107551.215767\n",
       "16273        2117         3          3        Rural       2001  252767.898688\n",
       "16786        2860         2          2        Urban       1988  375957.330501"
      ]
     },
     "execution_count": 22,
     "metadata": {},
     "output_type": "execute_result"
    }
   ],
   "source": [
    "sample = df.sample(n = 100  , random_state= 100) \n",
    "sample.head(5)"
   ]
  },
  {
   "cell_type": "markdown",
   "metadata": {},
   "source": [
    "# ________________________________________________________________________________________________________________________________________________________________________________"
   ]
  },
  {
   "cell_type": "markdown",
   "metadata": {},
   "source": [
    "# Calculate the 95% confidence interval of the population mean of any column.\n",
    "- price"
   ]
  },
  {
   "cell_type": "markdown",
   "metadata": {},
   "source": [
    "<img src=\"ex2.png\" alt=\"Image Description\" width=\"500\">"
   ]
  },
  {
   "cell_type": "code",
   "execution_count": 23,
   "metadata": {},
   "outputs": [
    {
     "name": "stdout",
     "output_type": "stream",
     "text": [
      "Z-statistic: 0.05746616065789384\n",
      "P-value: 0.9541738614277387\n",
      "Lower Bound: 224983.91316055562\n",
      "Upper Bound: 225857.34918617862\n",
      "( 224983.91316055562 ≤ 𝝁 ≤ 225857.34918617862 ) = 95 % = 0.95\n"
     ]
    }
   ],
   "source": [
    "sample_price= sample['Price']\n",
    "\n",
    "sample_mean_price = np.mean(sample_price)\n",
    "\n",
    "standard_deviation_Price = df['Price'].std()\n",
    "\n",
    "confidence_coefficient = 0.95  \n",
    "confidence_level = 1 - confidence_coefficient\n",
    "\n",
    "mean_price = df[\"Price\"].mean()\n",
    "\n",
    "z_test, p_value = ztest(sample['Price'], value= mean_price)\n",
    "\n",
    "print(f\"Z-statistic: {z_test}\")\n",
    "print(f\"P-value: {p_value}\")\n",
    "\n",
    "margin_of_error_of = z_test * (standard_deviation_Price / np.sqrt(100))  \n",
    "\n",
    "\n",
    "lower_bound = sample_mean_price - margin_of_error_of\n",
    "upper_bound = sample_mean_price + margin_of_error_of\n",
    "\n",
    "\n",
    "print(f\"Lower Bound: {lower_bound}\")\n",
    "print(f\"Upper Bound: {upper_bound}\")\n",
    "print(f\"( {lower_bound} ≤ 𝝁 ≤ {upper_bound} ) = 95 % = 0.95\")\n"
   ]
  },
  {
   "cell_type": "markdown",
   "metadata": {},
   "source": [
    "# ________________________________________________________________________________________________________________________________________________________________________________"
   ]
  },
  {
   "cell_type": "markdown",
   "metadata": {},
   "source": [
    "## Perform a hypothesis testing on the mean and variance value for any column.\n",
    "- price"
   ]
  },
  {
   "cell_type": "markdown",
   "metadata": {},
   "source": [
    "# 1- mean"
   ]
  },
  {
   "cell_type": "markdown",
   "metadata": {},
   "source": [
    "<img src=\"ex3.png\" alt=\"Image Description\" width=\"500\">"
   ]
  },
  {
   "cell_type": "markdown",
   "metadata": {},
   "source": [
    "## Steps:\n",
    "\n",
    "-    Calculate the sample mean and standard deviation.\n",
    "-    Perform a z-test to test whether the sample mean is significantly different from the hypothesized population mean (250,000).\n",
    "-    Compare the p-value with the significance levelto make a decision.\n",
    "## Hypothesis:\n",
    "\n",
    "-  **(H₀)**: The mean price of properties is equal to 250,000 (µ₀ = 250,000).\n",
    "-  **(H₁)**: The mean price of properties is not equal to 250,000 (µ ≠ 250,000).\n",
    "-  We will use a two-tailed test with a significance level of 0.05 (α = 0.05)."
   ]
  },
  {
   "cell_type": "code",
   "execution_count": 24,
   "metadata": {},
   "outputs": [
    {
     "name": "stdout",
     "output_type": "stream",
     "text": [
      "Z-statistic: 0.05746616065789384\n",
      "P-value: 0.9541738614277387\n",
      "Fail to reject the null hypothesis: The mean price is equal to 250,000.\n"
     ]
    }
   ],
   "source": [
    "mean_price = df[\"Price\"].mean()\n",
    "\n",
    "z_test, p_value = ztest(sample['Price'], value= mean_price)\n",
    "\n",
    "print(f\"Z-statistic: {z_test}\")\n",
    "print(f\"P-value: {p_value}\")\n",
    "\n",
    "#confidence_coefficient = 95 %\n",
    "confidence_level = 0.05\n",
    "\n",
    "if p_value < confidence_level:\n",
    "    print(\"Reject the null hypothesis: The mean price is not equal to 250,000.\")\n",
    "    \n",
    "else:\n",
    "    print(\"Fail to reject the null hypothesis: The mean price is equal to 250,000.\")\n"
   ]
  },
  {
   "cell_type": "markdown",
   "metadata": {},
   "source": [
    "# 2- variance \n",
    "<img src=\"ex4.png\" alt=\"Image Description\" width=\"500\">\n"
   ]
  },
  {
   "cell_type": "markdown",
   "metadata": {},
   "source": [
    "## Hypotheses:\n",
    "\n",
    "-    **Null hypothesis**: H0:σ2 = σ02​ (The population variance is equal to the hypothesized value).\n",
    "-    **Alternative hypothesis**: Ha:σ2 ≠ σ02​ (The population variance is different from the hypothesized value)."
   ]
  },
  {
   "cell_type": "code",
   "execution_count": 25,
   "metadata": {},
   "outputs": [
    {
     "name": "stdout",
     "output_type": "stream",
     "text": [
      "test_statistic: 124.10387966410327\n",
      "Critical value (upper): 128.4219886438403\n",
      "Critical value (lower): 73.36108019128368\n",
      "Fail to reject the null hypothesis: The variance is equal to the hypothesized variance.\n"
     ]
    }
   ],
   "source": [
    "#confidence_coefficient = 95 %\n",
    "confidence_level = 0.05\n",
    "\n",
    "\n",
    "sample_variance = sample['Price'].var()\n",
    "sample_size = 100\n",
    "\n",
    "population_variance = df[\"Price\"].var()  \n",
    "\n",
    "test_statistic = (sample_size - 1) * sample_variance / population_variance\n",
    "\n",
    "critical_value_upper = chi2.ppf(1 - confidence_level / 2, df=sample_size - 1)\n",
    "critical_valuel_lower = chi2.ppf(confidence_level / 2, df=sample_size - 1)\n",
    "\n",
    "\n",
    "print(f\"test_statistic: {test_statistic}\")\n",
    "print(f\"Critical value (upper): {critical_value_upper}\")\n",
    "print(f\"Critical value (lower): {critical_valuel_lower}\")\n",
    "\n",
    "\n",
    "if test_statistic < critical_value_upper or test_statistic > critical_valuel_lower:\n",
    "    print(\"Fail to reject the null hypothesis: The variance is equal to the hypothesized variance.\")\n",
    "    \n",
    "else:\n",
    "    print(\"Reject the null hypothesis: The variance is different from the hypothesized variance.\")\n"
   ]
  },
  {
   "cell_type": "markdown",
   "metadata": {},
   "source": [
    "# ________________________________________________________________________________________________________________________________________________________________________________"
   ]
  },
  {
   "cell_type": "markdown",
   "metadata": {},
   "source": [
    "## Perform a hypothesis testing on the population mean for 2 columns\n",
    "### independent \n",
    "- Square Feet \n",
    "- Price "
   ]
  },
  {
   "cell_type": "markdown",
   "metadata": {},
   "source": [
    "<img src=\"ex5.png\" alt=\"Image Description\" width=\"500\">"
   ]
  },
  {
   "cell_type": "markdown",
   "metadata": {},
   "source": [
    "## Hypotheses:\n",
    "\n",
    "-   **(H₀)**: The population mean of Price or SquareFeet is equal.\n",
    "-   **(H₁)**: The population mean of Price or SquareFeet is different."
   ]
  },
  {
   "cell_type": "code",
   "execution_count": 26,
   "metadata": {},
   "outputs": [
    {
     "name": "stdout",
     "output_type": "stream",
     "text": [
      "Z-statistic: 26.25879169122863\n",
      "P-value: 5.672479545235619e-152\n",
      "Reject the null hypothesis: The means are different.\n"
     ]
    }
   ],
   "source": [
    "price_data = sample['Price']\n",
    "sqft_data = sample['SquareFeet']\n",
    "\n",
    "\n",
    "sample_mean_price = price_data.mean()\n",
    "sample_mean_sqft = sqft_data.mean()\n",
    "\n",
    "\n",
    "std_price = sample[\"Price\"].std()\n",
    "std_sqft = sample[\"SquareFeet\"].std()\n",
    "\n",
    "\n",
    "n_price = 100\n",
    "n_sqft =  100\n",
    "\n",
    "\n",
    "z_test_statistic = (sample_mean_price - sample_mean_sqft) / math.sqrt((std_price**2 / n_price) + (std_sqft**2 / n_sqft))\n",
    "\n",
    "z_stat, p_value = ztest(sample['Price'], sample['SquareFeet'])\n",
    " \n",
    "print(f\"Z-statistic: {z_test_statistic}\")\n",
    "print(f\"P-value: {p_value}\")\n",
    "\n",
    "#confidence_coefficient = 95 %\n",
    "confidence_level = 0.05\n",
    "\n",
    "\n",
    "if p_value < confidence_level:\n",
    "    print(\"Reject the null hypothesis: The means are different.\")\n",
    "else:\n",
    "    print(\"Fail to reject the null hypothesis: The means are equal.\")\n"
   ]
  },
  {
   "cell_type": "markdown",
   "metadata": {},
   "source": [
    "# ________________________________________________________________________________________________________________________________________________________________________________"
   ]
  },
  {
   "cell_type": "markdown",
   "metadata": {},
   "source": [
    "## Perform a hypothesis testing on the population mean for more than 2 columns.\n",
    "- using anova by scipy"
   ]
  },
  {
   "cell_type": "code",
   "execution_count": 27,
   "metadata": {},
   "outputs": [
    {
     "name": "stdout",
     "output_type": "stream",
     "text": [
      "F-statistic: 695.6964935664955\n",
      "P-value: 8.40450405990934e-113\n",
      "Reject the null hypothesis: The means are not equal.\n"
     ]
    }
   ],
   "source": [
    "columns_to_test = ['Price', 'SquareFeet', 'Bedrooms']  \n",
    "\n",
    "column_data = [sample[column] for column in columns_to_test]\n",
    "\n",
    "f_statistic, p_value = stats.f_oneway(*column_data)       # -> * for unpacking\n",
    "\n",
    "print(f\"F-statistic: {f_statistic}\")\n",
    "print(f\"P-value: {p_value}\")\n",
    "\n",
    "#confidence_coefficient = 95 %\n",
    "confidence_level = 0.05\n",
    "\n",
    "\n",
    "if p_value < confidence_level:\n",
    "    print(\"Reject the null hypothesis: The means are not equal.\")\n",
    "else:\n",
    "    print(\"Fail to reject the null hypothesis: The means are equal.\")\n",
    "\n"
   ]
  },
  {
   "cell_type": "markdown",
   "metadata": {},
   "source": [
    "# ________________________________________________________________________________________________________________________________________________________________________________"
   ]
  },
  {
   "cell_type": "markdown",
   "metadata": {},
   "source": [
    "## Sample your dataset to be of size = 20"
   ]
  },
  {
   "cell_type": "code",
   "execution_count": 28,
   "metadata": {},
   "outputs": [
    {
     "data": {
      "text/html": [
       "<div>\n",
       "<style scoped>\n",
       "    .dataframe tbody tr th:only-of-type {\n",
       "        vertical-align: middle;\n",
       "    }\n",
       "\n",
       "    .dataframe tbody tr th {\n",
       "        vertical-align: top;\n",
       "    }\n",
       "\n",
       "    .dataframe thead th {\n",
       "        text-align: right;\n",
       "    }\n",
       "</style>\n",
       "<table border=\"1\" class=\"dataframe\">\n",
       "  <thead>\n",
       "    <tr style=\"text-align: right;\">\n",
       "      <th></th>\n",
       "      <th>SquareFeet</th>\n",
       "      <th>Bedrooms</th>\n",
       "      <th>Bathrooms</th>\n",
       "      <th>Neighborhood</th>\n",
       "      <th>YearBuilt</th>\n",
       "      <th>Price</th>\n",
       "    </tr>\n",
       "  </thead>\n",
       "  <tbody>\n",
       "    <tr>\n",
       "      <th>21450</th>\n",
       "      <td>2713</td>\n",
       "      <td>5</td>\n",
       "      <td>2</td>\n",
       "      <td>Suburb</td>\n",
       "      <td>2004</td>\n",
       "      <td>215070.921006</td>\n",
       "    </tr>\n",
       "    <tr>\n",
       "      <th>39630</th>\n",
       "      <td>2714</td>\n",
       "      <td>4</td>\n",
       "      <td>1</td>\n",
       "      <td>Rural</td>\n",
       "      <td>1959</td>\n",
       "      <td>433777.248551</td>\n",
       "    </tr>\n",
       "    <tr>\n",
       "      <th>16759</th>\n",
       "      <td>1241</td>\n",
       "      <td>5</td>\n",
       "      <td>1</td>\n",
       "      <td>Urban</td>\n",
       "      <td>1993</td>\n",
       "      <td>107551.215767</td>\n",
       "    </tr>\n",
       "    <tr>\n",
       "      <th>16273</th>\n",
       "      <td>2117</td>\n",
       "      <td>3</td>\n",
       "      <td>3</td>\n",
       "      <td>Rural</td>\n",
       "      <td>2001</td>\n",
       "      <td>252767.898688</td>\n",
       "    </tr>\n",
       "    <tr>\n",
       "      <th>16786</th>\n",
       "      <td>2860</td>\n",
       "      <td>2</td>\n",
       "      <td>2</td>\n",
       "      <td>Urban</td>\n",
       "      <td>1988</td>\n",
       "      <td>375957.330501</td>\n",
       "    </tr>\n",
       "  </tbody>\n",
       "</table>\n",
       "</div>"
      ],
      "text/plain": [
       "       SquareFeet  Bedrooms  Bathrooms Neighborhood  YearBuilt          Price\n",
       "21450        2713         5          2       Suburb       2004  215070.921006\n",
       "39630        2714         4          1        Rural       1959  433777.248551\n",
       "16759        1241         5          1        Urban       1993  107551.215767\n",
       "16273        2117         3          3        Rural       2001  252767.898688\n",
       "16786        2860         2          2        Urban       1988  375957.330501"
      ]
     },
     "execution_count": 28,
     "metadata": {},
     "output_type": "execute_result"
    }
   ],
   "source": [
    "sample2 = df.sample(n = 20  , random_state= 100) \n",
    "sample2.head(5)"
   ]
  },
  {
   "cell_type": "markdown",
   "metadata": {},
   "source": [
    "# ________________________________________________________________________________________________________________________________________________________________________________"
   ]
  },
  {
   "cell_type": "markdown",
   "metadata": {},
   "source": [
    "# Calculate the 95% confidence interval of the population mean of any column."
   ]
  },
  {
   "cell_type": "code",
   "execution_count": 29,
   "metadata": {},
   "outputs": [
    {
     "name": "stdout",
     "output_type": "stream",
     "text": [
      "Lower Bound: 247269.48380942698\n",
      "Upper Bound: 249222.54613671734\n",
      "( 247269.48380942698 ≤ 𝝁 ≤ 249222.54613671734 ) = 95 % = 0.95\n"
     ]
    }
   ],
   "source": [
    "sample_price= sample2['Price']\n",
    "\n",
    "sample_mean_price = np.mean(sample_price)\n",
    "\n",
    "standard_deviation_Price = df['Price'].std()\n",
    "\n",
    "confidence_coefficient = 0.95  \n",
    "confidence_level = 1 - confidence_coefficient\n",
    "\n",
    "z_test, p_value = ztest(sample['Price'], value= mean_price)\n",
    "\n",
    "margin_of_error_of = z_test * (standard_deviation_Price / np.sqrt(20)) \n",
    "\n",
    "\n",
    "lower_bound = sample_mean_price - margin_of_error_of\n",
    "upper_bound = sample_mean_price + margin_of_error_of\n",
    "\n",
    "\n",
    "print(f\"Lower Bound: {lower_bound}\")\n",
    "print(f\"Upper Bound: {upper_bound}\")\n",
    "print(f\"( {lower_bound} ≤ 𝝁 ≤ {upper_bound} ) = 95 % = 0.95\")\n"
   ]
  },
  {
   "cell_type": "markdown",
   "metadata": {},
   "source": [
    "# ________________________________________________________________________________________________________________________________________________________________________________"
   ]
  },
  {
   "cell_type": "markdown",
   "metadata": {},
   "source": [
    "## Perform a hypothesis testing on the mean  value for any column.\n",
    "- price"
   ]
  },
  {
   "cell_type": "markdown",
   "metadata": {},
   "source": [
    "\n",
    "## Hypothesis:\n",
    "\n",
    "-  **(H₀)**: The mean price of properties is equal to 250,000 (µ₀ = 250,000).\n",
    "-  **(H₁)**: The mean price of properties is not equal to 250,000 (µ ≠ 250,000).\n",
    "-  We will use a two-tailed test with a significance level of 0.05 (α = 0.05)."
   ]
  },
  {
   "cell_type": "code",
   "execution_count": 30,
   "metadata": {},
   "outputs": [
    {
     "name": "stdout",
     "output_type": "stream",
     "text": [
      "Z-statistic: 1.1302352012074248\n",
      "P-value: 0.25837713065766965\n",
      "Fail to reject the null hypothesis: The mean price is equal to 250,000.\n"
     ]
    }
   ],
   "source": [
    "mean_price = df[\"Price\"].mean()\n",
    "\n",
    "z_test, p_value = ztest(sample2['Price'], value=mean_price)\n",
    "\n",
    "print(f\"Z-statistic: {z_test}\")\n",
    "print(f\"P-value: {p_value}\")\n",
    "\n",
    "#confidence_coefficient = 95 %\n",
    "confidence_level = 0.05\n",
    "\n",
    "if p_value < confidence_level:\n",
    "    print(\"Reject the null hypothesis: The mean price is not equal to 250,000.\")\n",
    "    \n",
    "else:\n",
    "    print(\"Fail to reject the null hypothesis: The mean price is equal to 250,000.\")\n"
   ]
  },
  {
   "cell_type": "markdown",
   "metadata": {},
   "source": [
    "# ________________________________________________________________________________________________________________________________________________________________________________"
   ]
  },
  {
   "cell_type": "markdown",
   "metadata": {},
   "source": [
    "## Perform a hypothesis testing on the  variance value for any column.\n",
    "- price"
   ]
  },
  {
   "cell_type": "markdown",
   "metadata": {},
   "source": [
    "## Hypotheses:\n",
    "\n",
    "-    **Null hypothesis**: H0:σ2 = σ02​ (The population variance is equal to the hypothesized value).\n",
    "-    **Alternative hypothesis**: Ha:σ2 ≠ σ02​ (The population variance is different from the hypothesized value)."
   ]
  },
  {
   "cell_type": "code",
   "execution_count": 31,
   "metadata": {},
   "outputs": [
    {
     "name": "stdout",
     "output_type": "stream",
     "text": [
      "Chi-square statistic: 27.997200382883133\n",
      "Critical value (upper): 32.85232686172969\n",
      "Critical value (lower): 8.906516481987971\n",
      "Fail to reject the null hypothesis: The variance is equal to the hypothesized variance.\n"
     ]
    }
   ],
   "source": [
    "#confidence_coefficient = 95 %\n",
    "confidence_level = 0.05\n",
    "\n",
    "\n",
    "sample_variance = sample2['Price'].var()\n",
    "sample_size = 20\n",
    "\n",
    "population_variance = df[\"Price\"].var()  \n",
    "\n",
    "test_statistic = (sample_size - 1) * sample_variance / population_variance\n",
    "\n",
    "critical_value_upper = chi2.ppf(1 - confidence_level / 2, df=sample_size - 1)\n",
    "critical_valuel_lower = chi2.ppf(confidence_level / 2, df=sample_size - 1)\n",
    "\n",
    "\n",
    "print(f\"Chi-square statistic: {test_statistic}\")\n",
    "print(f\"Critical value (upper): {critical_value_upper}\")\n",
    "print(f\"Critical value (lower): {critical_valuel_lower}\")\n",
    "\n",
    "\n",
    "if test_statistic < critical_value_upper or test_statistic > critical_valuel_lower:\n",
    "    print(\"Fail to reject the null hypothesis: The variance is equal to the hypothesized variance.\")\n",
    "    \n",
    "else:\n",
    "    print(\"Reject the null hypothesis: The variance is different from the hypothesized variance.\")\n"
   ]
  },
  {
   "cell_type": "markdown",
   "metadata": {},
   "source": [
    "# ________________________________________________________________________________________________________________________________________________________________________________"
   ]
  },
  {
   "cell_type": "markdown",
   "metadata": {},
   "source": [
    "# **part 3 documentation**"
   ]
  },
  {
   "cell_type": "markdown",
   "metadata": {},
   "source": [
    " ## <a href=\"C:\\Users\\dell\\Desktop\\project stat\\221002374_omar_khaled.pdf\" target=\"_blank\">Click here to open report</a>\n"
   ]
  }
 ],
 "metadata": {
  "kernelspec": {
   "display_name": "Python 3",
   "language": "python",
   "name": "python3"
  },
  "language_info": {
   "codemirror_mode": {
    "name": "ipython",
    "version": 3
   },
   "file_extension": ".py",
   "mimetype": "text/x-python",
   "name": "python",
   "nbconvert_exporter": "python",
   "pygments_lexer": "ipython3",
   "version": "3.12.0"
  }
 },
 "nbformat": 4,
 "nbformat_minor": 2
}
